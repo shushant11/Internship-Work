{
 "cells": [
  {
   "cell_type": "code",
   "execution_count": null,
   "id": "96e37bd1-201e-4c1a-b524-c14200713f77",
   "metadata": {},
   "outputs": [],
   "source": [
    "# List of cities with their carbon footprints in tons CO2 per month\n",
    "cities = [\n",
    "    {\"name\": \"City A\", \"carbon_footprint\": 500},\n",
    "    {\"name\": \"City B\", \"carbon_footprint\": 350},\n",
    "    {\"name\": \"City C\", \"carbon_footprint\": 600},\n",
    "    {\"name\": \"City D\", \"carbon_footprint\": 200},\n",
    "]\n",
    " \n",
    "# Lambda function to filter cities below the threshold (400 ton CO2)\n",
    "sustainability_threshold = 400\n",
    "sustainable_cities = list(filter(lambda city: city[\"carbon_footprint\"] < sustainability_threshold, cities))\n",
    " \n",
    "# Printing the filtered list of sustainable cities\n",
    "print(\"Sustainable Cities:\")\n",
    "for city in sustainable_cities:\n",
    "    print(city[\"name\"])"
   ]
  },
  {
   "cell_type": "code",
   "execution_count": 1,
   "id": "e7804004-72d6-4e3e-a9f3-57385630d77d",
   "metadata": {},
   "outputs": [],
   "source": [
    "def calculate_carbon_footprint(energy_consumption,emission_factor):\n",
    "    ''' this function calculates the carbon fp based on ec and ef '''\n",
    "    return energy_consumption * emission_factor"
   ]
  },
  {
   "cell_type": "code",
   "execution_count": 2,
   "id": "7d451138-8065-44e2-ab7f-a95d2615c613",
   "metadata": {},
   "outputs": [
    {
     "name": "stdout",
     "output_type": "stream",
     "text": [
      "carbon footprint: 475.0 kg co2\n"
     ]
    }
   ],
   "source": [
    "energy_consumption = 1000\n",
    "emission_factor =0.475\n",
    "\n",
    "carbon_footprint =calculate_carbon_footprint(energy_consumption, emission_factor)\n",
    "print(f\"carbon footprint: {carbon_footprint} kg co2\")"
   ]
  },
  {
   "cell_type": "markdown",
   "id": "48a69120-2a8d-4ca3-98cc-f100c3f398e5",
   "metadata": {},
   "source": [
    "##class definition(energy system)"
   ]
  },
  {
   "cell_type": "code",
   "execution_count": null,
   "id": "5c645a58-a936-48f9-ba6d-442e3e1a2e1c",
   "metadata": {},
   "outputs": [],
   "source": [
    "class EnergySystem:\n",
    "    def __init__(self, building_name, energy_consumption, emissio_factor):\n",
    "        # Initialise the attributes\n",
    "        self.building_name = building_name\n",
    "        self.energy_consumption = energy_consumption   # in kWh\n",
    "        self.emissio_factor = emissio_factor  # kg CO2 per kWh"
   ]
  }
 ],
 "metadata": {
  "kernelspec": {
   "display_name": "Python 3 (ipykernel)",
   "language": "python",
   "name": "python3"
  },
  "language_info": {
   "codemirror_mode": {
    "name": "ipython",
    "version": 3
   },
   "file_extension": ".py",
   "mimetype": "text/x-python",
   "name": "python",
   "nbconvert_exporter": "python",
   "pygments_lexer": "ipython3",
   "version": "3.12.8"
  }
 },
 "nbformat": 4,
 "nbformat_minor": 5
}
