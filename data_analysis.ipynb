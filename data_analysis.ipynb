{
 "cells": [
  {
   "cell_type": "code",
   "execution_count": 1,
   "id": "fe239b8a-5f15-4128-b28d-9cc237e306ee",
   "metadata": {},
   "outputs": [],
   "source": [
    "import numpy as np"
   ]
  },
  {
   "cell_type": "code",
   "execution_count": 2,
   "id": "ceacfdeb-ac2d-417e-aa22-e3b173d9932d",
   "metadata": {},
   "outputs": [
    {
     "data": {
      "text/plain": [
       "np.float64(51.0)"
      ]
     },
     "execution_count": 2,
     "metadata": {},
     "output_type": "execute_result"
    }
   ],
   "source": [
    "data = [23,14,56,72,90]\n",
    "np.mean(data)"
   ]
  },
  {
   "cell_type": "code",
   "execution_count": 3,
   "id": "1947c766-57f6-4141-a302-a82cd275498a",
   "metadata": {},
   "outputs": [
    {
     "data": {
      "text/plain": [
       "np.int64(14)"
      ]
     },
     "execution_count": 3,
     "metadata": {},
     "output_type": "execute_result"
    }
   ],
   "source": [
    "np.min(data)"
   ]
  },
  {
   "cell_type": "code",
   "execution_count": 4,
   "id": "70df11d3-b631-4104-b57b-dfef5306bac9",
   "metadata": {},
   "outputs": [],
   "source": [
    "a=[1,3,5,7]\n",
    "b=[4,5,6,7]\n",
    "arr1=np.array(a)\n",
    "arr2=np.array(b)"
   ]
  },
  {
   "cell_type": "code",
   "execution_count": 5,
   "id": "3c193633-ed90-4131-a2cf-8ea9e26d8399",
   "metadata": {},
   "outputs": [
    {
     "data": {
      "text/plain": [
       "array([4, 5, 6, 7])"
      ]
     },
     "execution_count": 5,
     "metadata": {},
     "output_type": "execute_result"
    }
   ],
   "source": [
    "arr2"
   ]
  },
  {
   "cell_type": "code",
   "execution_count": 6,
   "id": "d5bf454b-460e-4740-b8a0-a0f0efe9e22b",
   "metadata": {},
   "outputs": [
    {
     "data": {
      "text/plain": [
       "array([ 4, 15, 30, 49])"
      ]
     },
     "execution_count": 6,
     "metadata": {},
     "output_type": "execute_result"
    }
   ],
   "source": [
    "arr1 * arr2"
   ]
  },
  {
   "cell_type": "code",
   "execution_count": 7,
   "id": "b6060a05-5275-44ea-baae-e82fc492ea60",
   "metadata": {},
   "outputs": [
    {
     "data": {
      "text/plain": [
       "1"
      ]
     },
     "execution_count": 7,
     "metadata": {},
     "output_type": "execute_result"
    }
   ],
   "source": [
    "arr1.ndim"
   ]
  },
  {
   "cell_type": "code",
   "execution_count": 8,
   "id": "f9a9dc43-b7f9-4d4b-b3df-deb12e52deaa",
   "metadata": {},
   "outputs": [
    {
     "data": {
      "text/plain": [
       "(4,)"
      ]
     },
     "execution_count": 8,
     "metadata": {},
     "output_type": "execute_result"
    }
   ],
   "source": [
    "arr1.shape"
   ]
  },
  {
   "cell_type": "code",
   "execution_count": 9,
   "id": "7192998a-efd8-404c-ab54-23c98ac654b5",
   "metadata": {},
   "outputs": [
    {
     "data": {
      "text/plain": [
       "dtype('int64')"
      ]
     },
     "execution_count": 9,
     "metadata": {},
     "output_type": "execute_result"
    }
   ],
   "source": [
    "arr1.dtype"
   ]
  },
  {
   "cell_type": "code",
   "execution_count": 10,
   "id": "fd69d42d-ee71-49e4-b918-96ac4884260c",
   "metadata": {},
   "outputs": [
    {
     "data": {
      "text/plain": [
       "array([[1, 2, 3],\n",
       "       [4, 5, 6],\n",
       "       [7, 8, 9]])"
      ]
     },
     "execution_count": 10,
     "metadata": {},
     "output_type": "execute_result"
    }
   ],
   "source": [
    " arr3=np.array([[1,2,3],[4,5,6],[7,8,9]])\n",
    "arr3"
   ]
  },
  {
   "cell_type": "code",
   "execution_count": 11,
   "id": "65347153-fd8a-400d-a703-872a2e4498e6",
   "metadata": {},
   "outputs": [
    {
     "data": {
      "text/plain": [
       "2"
      ]
     },
     "execution_count": 11,
     "metadata": {},
     "output_type": "execute_result"
    }
   ],
   "source": [
    "arr3.ndim"
   ]
  },
  {
   "cell_type": "code",
   "execution_count": 12,
   "id": "a41e5832-fb07-4c0d-b50b-9c665296629d",
   "metadata": {},
   "outputs": [
    {
     "data": {
      "text/plain": [
       "(3, 3)"
      ]
     },
     "execution_count": 12,
     "metadata": {},
     "output_type": "execute_result"
    }
   ],
   "source": [
    "arr3.shape"
   ]
  },
  {
   "cell_type": "code",
   "execution_count": 13,
   "id": "b88619d8-fe61-4689-8ebe-c1a6da4d57e3",
   "metadata": {},
   "outputs": [
    {
     "data": {
      "text/plain": [
       "array([0, 1, 2, 3, 4, 5, 6, 7, 8, 9])"
      ]
     },
     "execution_count": 13,
     "metadata": {},
     "output_type": "execute_result"
    }
   ],
   "source": [
    "np.arange(0,10,1)"
   ]
  },
  {
   "cell_type": "code",
   "execution_count": 14,
   "id": "85bf4c2f-2d77-4799-90e4-a9d5c5e2f166",
   "metadata": {},
   "outputs": [
    {
     "data": {
      "text/plain": [
       "array([10,  9,  8,  7,  6,  5,  4,  3,  2])"
      ]
     },
     "execution_count": 14,
     "metadata": {},
     "output_type": "execute_result"
    }
   ],
   "source": [
    "np.arange(10,1,-1)"
   ]
  },
  {
   "cell_type": "code",
   "execution_count": 15,
   "id": "9ae47871-68dd-40ca-a80c-c4fd5fc9997d",
   "metadata": {},
   "outputs": [
    {
     "data": {
      "text/plain": [
       "array([11, 68, 16, 44, 20], dtype=int32)"
      ]
     },
     "execution_count": 15,
     "metadata": {},
     "output_type": "execute_result"
    }
   ],
   "source": [
    "np.random.randint(10,100,5)"
   ]
  },
  {
   "cell_type": "code",
   "execution_count": 16,
   "id": "fe126501-6df4-4825-8159-65ff5c6cd18a",
   "metadata": {},
   "outputs": [
    {
     "data": {
      "text/plain": [
       "array([87.03675169, 10.03128154, 63.98199809, 91.76978499, 69.87269268,\n",
       "       74.99106438, 40.66802728, 78.91830822, 77.92411796, 90.31787942,\n",
       "       37.96338526, 25.20289667, 96.35305962, 40.11598163, 48.04828319,\n",
       "       47.6054928 , 57.35655414, 85.47308917, 69.56486184, 30.96401509,\n",
       "       10.08344766, 73.38334309, 15.87235791, 74.98371209, 73.73517165,\n",
       "       62.15805593, 85.77019093, 17.20968925, 76.41649004, 49.0432907 ,\n",
       "       56.00131937, 26.50628417, 79.59919248, 43.37888945, 55.81431509,\n",
       "       69.49874502, 93.4696429 , 50.74838398, 42.48308502, 52.46268795,\n",
       "       91.96282115, 97.24742002, 38.94947893, 76.92925529, 17.20848165,\n",
       "       12.51030326, 17.51819212, 87.71788521, 20.34616702, 49.1923227 ])"
      ]
     },
     "execution_count": 16,
     "metadata": {},
     "output_type": "execute_result"
    }
   ],
   "source": [
    "np.random.uniform(10,100,50)"
   ]
  },
  {
   "cell_type": "code",
   "execution_count": 17,
   "id": "4df75fcc-d5dd-4c13-a5a4-36588ef2bb64",
   "metadata": {},
   "outputs": [
    {
     "data": {
      "text/plain": [
       "array([0.93850926, 0.72660634, 0.32042173, 0.06745045, 0.09424681,\n",
       "       0.52482059, 0.66606908, 0.12675446, 0.62622822, 0.60758109,\n",
       "       0.80774392, 0.15258218, 0.97919685, 0.44535537, 0.11063358,\n",
       "       0.37653484, 0.12075103, 0.90472115, 0.69242804, 0.29969506,\n",
       "       0.65341186, 0.58266694, 0.21229226, 0.05164892, 0.93945968,\n",
       "       0.21867076, 0.23075826, 0.32701856, 0.66162582, 0.56327222,\n",
       "       0.39177373, 0.72231429, 0.73724692, 0.14454963, 0.9841594 ,\n",
       "       0.10125603, 0.68494116, 0.99544307, 0.46635129, 0.32463998,\n",
       "       0.40542839, 0.78857153, 0.22858358, 0.02362044, 0.76570429,\n",
       "       0.98046266, 0.47569246, 0.8880834 , 0.32967103, 0.63468662,\n",
       "       0.11340182, 0.1193121 , 0.15267389, 0.91683138, 0.96514356,\n",
       "       0.98308093, 0.63619143, 0.14036027, 0.88703766, 0.99979133,\n",
       "       0.77133945, 0.6150559 , 0.37122662, 0.53342929, 0.0100808 ,\n",
       "       0.53409758, 0.97315475, 0.87539811, 0.49654001, 0.2068065 ,\n",
       "       0.14782679, 0.87255259, 0.72346794, 0.44107917, 0.70455261,\n",
       "       0.97500993, 0.56390253, 0.01149622, 0.46439604, 0.7779542 ,\n",
       "       0.5385552 , 0.37623418, 0.49999118, 0.70127984, 0.96339408,\n",
       "       0.03833933, 0.57302246, 0.75954306, 0.33862385, 0.61135043,\n",
       "       0.66249255, 0.2927093 , 0.5469752 , 0.46723039, 0.81221649,\n",
       "       0.82431588, 0.47152444, 0.37819144, 0.32278895, 0.76147113])"
      ]
     },
     "execution_count": 17,
     "metadata": {},
     "output_type": "execute_result"
    }
   ],
   "source": [
    "np.random.rand(100)"
   ]
  },
  {
   "cell_type": "code",
   "execution_count": 18,
   "id": "bd246fc4-cdb3-457d-83ea-8228557e429c",
   "metadata": {},
   "outputs": [
    {
     "data": {
      "text/plain": [
       "array([[40, 89, 37],\n",
       "       [17, 39, 25],\n",
       "       [43, 92, 30],\n",
       "       [15, 65, 45]], dtype=int32)"
      ]
     },
     "execution_count": 18,
     "metadata": {},
     "output_type": "execute_result"
    }
   ],
   "source": [
    "np.random.randint(10,100,12).reshape(4,3)"
   ]
  },
  {
   "cell_type": "code",
   "execution_count": 19,
   "id": "3f2efe1d-0961-46c1-a192-b1f437be242d",
   "metadata": {},
   "outputs": [
    {
     "data": {
      "text/plain": [
       "np.float64(45.0)"
      ]
     },
     "execution_count": 19,
     "metadata": {},
     "output_type": "execute_result"
    }
   ],
   "source": [
    "r=45.7\n",
    "np.floor(r)"
   ]
  },
  {
   "cell_type": "code",
   "execution_count": 20,
   "id": "dca4e6b4-7710-4edd-89e4-e735b5f69f1d",
   "metadata": {},
   "outputs": [
    {
     "data": {
      "text/plain": [
       "np.float64(46.0)"
      ]
     },
     "execution_count": 20,
     "metadata": {},
     "output_type": "execute_result"
    }
   ],
   "source": [
    "np.ceil(r)"
   ]
  },
  {
   "cell_type": "code",
   "execution_count": 21,
   "id": "bf908ca5-06e2-41ca-9ed8-9bc2626e11ac",
   "metadata": {},
   "outputs": [],
   "source": [
    "z=np.random.randint(1,100,12)"
   ]
  },
  {
   "cell_type": "code",
   "execution_count": 22,
   "id": "75956627-e2f5-4b12-aa19-45468024a72c",
   "metadata": {},
   "outputs": [
    {
     "data": {
      "text/plain": [
       "[np.int32(4),\n",
       " np.int32(12),\n",
       " np.int32(19),\n",
       " np.int32(35),\n",
       " np.int32(35),\n",
       " np.int32(38),\n",
       " np.int32(62),\n",
       " np.int32(63),\n",
       " np.int32(73),\n",
       " np.int32(84),\n",
       " np.int32(93),\n",
       " np.int32(98)]"
      ]
     },
     "execution_count": 22,
     "metadata": {},
     "output_type": "execute_result"
    }
   ],
   "source": [
    "z=sorted(z)\n",
    "z"
   ]
  },
  {
   "cell_type": "code",
   "execution_count": 23,
   "id": "09bad1a5-1bbe-42ab-bd5f-2593832624ab",
   "metadata": {},
   "outputs": [
    {
     "data": {
      "text/plain": [
       "np.float64(75.75)"
      ]
     },
     "execution_count": 23,
     "metadata": {},
     "output_type": "execute_result"
    }
   ],
   "source": [
    "np.percentile(z,75)"
   ]
  },
  {
   "cell_type": "code",
   "execution_count": 24,
   "id": "6c448a76-3481-476a-8301-ba3c5e90db2a",
   "metadata": {},
   "outputs": [],
   "source": [
    "import pandas as pd"
   ]
  },
  {
   "cell_type": "code",
   "execution_count": 25,
   "id": "f5addf3a-5820-4f37-9ba4-7a021bd5abf4",
   "metadata": {},
   "outputs": [],
   "source": [
    "renewable_sources =['solar','wind','hydropower','geothermal','biomass']\n",
    "\n",
    "data = {\n",
    "    \"project\":['solar farm','wind turbine','hydropower','solar roof','geothermal plant'],\n",
    "    \"technology\":['solar','wind','hydro','solar','geothermal'],\n",
    "    \"capacity (Mw)\":[150,300,200,50,100],\n",
    "    \"cost (Million$)\":[200,400,350,100,250],\n",
    "    \"location\":[\"california\",\"texas\",\"washington\",\"nevada\",\"chicago\"],\n",
    "    \"completion year\":[2023,2024,2022,2025,2023]\n",
    "}"
   ]
  },
  {
   "cell_type": "code",
   "execution_count": 26,
   "id": "901c745a-57a4-4560-8332-64186bbb5637",
   "metadata": {},
   "outputs": [
    {
     "name": "stdout",
     "output_type": "stream",
     "text": [
      "renewable energy sources are:\n",
      "0         solar\n",
      "1          wind\n",
      "2    hydropower\n",
      "3    geothermal\n",
      "4       biomass\n",
      "dtype: object\n"
     ]
    }
   ],
   "source": [
    "#create a pandas series for renewable energy resources\n",
    "renewable_series=pd.Series(renewable_sources)\n",
    "print(\"renewable energy sources are:\")\n",
    "print(renewable_series)"
   ]
  },
  {
   "cell_type": "code",
   "execution_count": 27,
   "id": "d159dddc-d472-44b6-a694-c9dbe349d813",
   "metadata": {},
   "outputs": [
    {
     "name": "stdout",
     "output_type": "stream",
     "text": [
      "green technology projects dataframe:\n",
      "            project  technology  capacity (Mw)  cost (Million$)    location  \\\n",
      "0        solar farm       solar            150              200  california   \n",
      "1      wind turbine        wind            300              400       texas   \n",
      "2        hydropower       hydro            200              350  washington   \n",
      "3        solar roof       solar             50              100      nevada   \n",
      "4  geothermal plant  geothermal            100              250     chicago   \n",
      "\n",
      "   completion year  \n",
      "0             2023  \n",
      "1             2024  \n",
      "2             2022  \n",
      "3             2025  \n",
      "4             2023  \n"
     ]
    }
   ],
   "source": [
    "#create a Dataframe for green tech projects\n",
    "df =pd.DataFrame(data)\n",
    "print(\"green technology projects dataframe:\")\n",
    "print(df)"
   ]
  },
  {
   "cell_type": "code",
   "execution_count": 28,
   "id": "709b0f04-0d8e-4910-b22d-933049e01506",
   "metadata": {},
   "outputs": [
    {
     "data": {
      "text/plain": [
       "0          solar farm\n",
       "1        wind turbine\n",
       "2          hydropower\n",
       "3          solar roof\n",
       "4    geothermal plant\n",
       "Name: project, dtype: object"
      ]
     },
     "execution_count": 28,
     "metadata": {},
     "output_type": "execute_result"
    }
   ],
   "source": [
    "df['project']"
   ]
  },
  {
   "cell_type": "code",
   "execution_count": 29,
   "id": "3c225bf9-d991-4350-8968-f210c5cc8589",
   "metadata": {},
   "outputs": [
    {
     "name": "stdout",
     "output_type": "stream",
     "text": [
      "0          solar farm\n",
      "1        wind turbine\n",
      "2          hydropower\n",
      "3          solar roof\n",
      "4    geothermal plant\n",
      "Name: project, dtype: object\n"
     ]
    }
   ],
   "source": [
    "print(df['project'])"
   ]
  },
  {
   "cell_type": "code",
   "execution_count": 30,
   "id": "391e4aef-ed41-4af1-bf74-3b50deef561a",
   "metadata": {},
   "outputs": [
    {
     "data": {
      "text/html": [
       "<div>\n",
       "<style scoped>\n",
       "    .dataframe tbody tr th:only-of-type {\n",
       "        vertical-align: middle;\n",
       "    }\n",
       "\n",
       "    .dataframe tbody tr th {\n",
       "        vertical-align: top;\n",
       "    }\n",
       "\n",
       "    .dataframe thead th {\n",
       "        text-align: right;\n",
       "    }\n",
       "</style>\n",
       "<table border=\"1\" class=\"dataframe\">\n",
       "  <thead>\n",
       "    <tr style=\"text-align: right;\">\n",
       "      <th></th>\n",
       "      <th>project</th>\n",
       "      <th>technology</th>\n",
       "      <th>capacity (Mw)</th>\n",
       "      <th>cost (Million$)</th>\n",
       "      <th>location</th>\n",
       "      <th>completion year</th>\n",
       "    </tr>\n",
       "  </thead>\n",
       "  <tbody>\n",
       "    <tr>\n",
       "      <th>0</th>\n",
       "      <td>solar farm</td>\n",
       "      <td>solar</td>\n",
       "      <td>150</td>\n",
       "      <td>200</td>\n",
       "      <td>california</td>\n",
       "      <td>2023</td>\n",
       "    </tr>\n",
       "    <tr>\n",
       "      <th>1</th>\n",
       "      <td>wind turbine</td>\n",
       "      <td>wind</td>\n",
       "      <td>300</td>\n",
       "      <td>400</td>\n",
       "      <td>texas</td>\n",
       "      <td>2024</td>\n",
       "    </tr>\n",
       "    <tr>\n",
       "      <th>2</th>\n",
       "      <td>hydropower</td>\n",
       "      <td>hydro</td>\n",
       "      <td>200</td>\n",
       "      <td>350</td>\n",
       "      <td>washington</td>\n",
       "      <td>2022</td>\n",
       "    </tr>\n",
       "  </tbody>\n",
       "</table>\n",
       "</div>"
      ],
      "text/plain": [
       "        project technology  capacity (Mw)  cost (Million$)    location  \\\n",
       "0    solar farm      solar            150              200  california   \n",
       "1  wind turbine       wind            300              400       texas   \n",
       "2    hydropower      hydro            200              350  washington   \n",
       "\n",
       "   completion year  \n",
       "0             2023  \n",
       "1             2024  \n",
       "2             2022  "
      ]
     },
     "execution_count": 30,
     "metadata": {},
     "output_type": "execute_result"
    }
   ],
   "source": [
    "#want to print only high capacity projects (> 100 MW)\n",
    "hcp =df[df['capacity (Mw)'] > 100]\n",
    "hcp"
   ]
  },
  {
   "cell_type": "code",
   "execution_count": 31,
   "id": "f0b9519b-1cf5-44b8-95e5-74efe5945f2b",
   "metadata": {},
   "outputs": [
    {
     "data": {
      "text/plain": [
       "0     True\n",
       "1     True\n",
       "2     True\n",
       "3    False\n",
       "4    False\n",
       "Name: capacity (Mw), dtype: bool"
      ]
     },
     "execution_count": 31,
     "metadata": {},
     "output_type": "execute_result"
    }
   ],
   "source": [
    "df['capacity (Mw)'] > 100"
   ]
  },
  {
   "cell_type": "code",
   "execution_count": 34,
   "id": "3cf3097b-043c-4fbe-ac5f-9b520c005025",
   "metadata": {},
   "outputs": [
    {
     "name": "stdout",
     "output_type": "stream",
     "text": [
      "the total capacity of all the projects are:  800\n",
      "the total cost of the projects:  1300\n"
     ]
    }
   ],
   "source": [
    "#aggregation\n",
    "total_capacity = df[\"capacity (Mw)\"].sum()\n",
    "total_cost =df[\"cost (Million$)\"].sum()\n",
    "print(\"the total capacity of all the projects are: \",total_capacity)\n",
    "print(\"the total cost of the projects: \",total_cost)"
   ]
  },
  {
   "cell_type": "code",
   "execution_count": 35,
   "id": "fd43a24e-a757-4fbc-8cc5-73eb85a6322f",
   "metadata": {},
   "outputs": [
    {
     "data": {
      "text/plain": [
       "technology\n",
       "geothermal    100\n",
       "hydro         200\n",
       "solar         200\n",
       "wind          300\n",
       "Name: capacity (Mw), dtype: int64"
      ]
     },
     "execution_count": 35,
     "metadata": {},
     "output_type": "execute_result"
    }
   ],
   "source": [
    "#grouping of data\n",
    "grouped_data = df.groupby(\"technology\")[\"capacity (Mw)\"].sum()\n",
    "grouped_data"
   ]
  },
  {
   "cell_type": "markdown",
   "id": "0625622a-6ea1-4ce7-8716-fdcea66a84ec",
   "metadata": {},
   "source": [
    "## day3: Numpy"
   ]
  },
  {
   "cell_type": "code",
   "execution_count": 36,
   "id": "740db02e-f1af-42c0-a046-d460fc04295a",
   "metadata": {},
   "outputs": [
    {
     "name": "stdout",
     "output_type": "stream",
     "text": [
      "energy consumption in mWh for different energy sources:\n"
     ]
    },
    {
     "data": {
      "text/plain": [
       "array([1200, 3400, 2900, 1800, 2500])"
      ]
     },
     "execution_count": 36,
     "metadata": {},
     "output_type": "execute_result"
    }
   ],
   "source": [
    "energy_consumption = np.array([1200,3400,2900,1800,2500])\n",
    "print(\"energy consumption in mWh for different energy sources:\")\n",
    "energy_consumption"
   ]
  },
  {
   "cell_type": "code",
   "execution_count": 38,
   "id": "f16c3843-604c-40b5-9220-d7a22a124a97",
   "metadata": {},
   "outputs": [
    {
     "name": "stdout",
     "output_type": "stream",
     "text": [
      "the total energy consumption is :11800 MWh\n"
     ]
    }
   ],
   "source": [
    "# calculate the total energy consumption\n",
    "total_consumption =np.sum(energy_consumption)\n",
    "print(f'the total energy consumption is :{total_consumption} MWh')\n"
   ]
  },
  {
   "cell_type": "code",
   "execution_count": 39,
   "id": "c5e01c49-5ab8-4fc9-a5a6-8bf626085498",
   "metadata": {},
   "outputs": [
    {
     "name": "stdout",
     "output_type": "stream",
     "text": [
      "the mean energy consumption is 2360.0 MWh\n"
     ]
    }
   ],
   "source": [
    "# calculate the mean energy consumption\n",
    "mean_consumption = np.mean(energy_consumption)\n",
    "print(f'the mean energy consumption is {mean_consumption} MWh')"
   ]
  },
  {
   "cell_type": "code",
   "execution_count": 40,
   "id": "395648b8-5a89-4452-bdd0-759df644f33f",
   "metadata": {},
   "outputs": [
    {
     "data": {
      "text/plain": [
       "np.float64(781.2809993849844)"
      ]
     },
     "execution_count": 40,
     "metadata": {},
     "output_type": "execute_result"
    }
   ],
   "source": [
    "# calculate the standard deviation of energy consumptiom\n",
    "std_ec = np.std(energy_consumption)\n",
    "std_ec"
   ]
  },
  {
   "cell_type": "code",
   "execution_count": 41,
   "id": "36c45212-9df0-46e8-8f78-807e3aa12814",
   "metadata": {},
   "outputs": [
    {
     "name": "stdout",
     "output_type": "stream",
     "text": [
      "the standard deviation for energy conservation is : 781.2809993849844 MWh\n"
     ]
    }
   ],
   "source": [
    "print(f'the standard deviation for energy conservation is : {std_ec} MWh')"
   ]
  },
  {
   "cell_type": "code",
   "execution_count": 42,
   "id": "a72ccbbe-37c4-4344-bdff-3932044a8e7f",
   "metadata": {},
   "outputs": [
    {
     "name": "stdout",
     "output_type": "stream",
     "text": [
      "reshaped array is:\n",
      "[[1200]\n",
      " [3400]\n",
      " [2900]\n",
      " [1800]\n",
      " [2500]]\n"
     ]
    }
   ],
   "source": [
    "#reshape the array\n",
    "reshaped_array = energy_consumption.reshape((5,1))\n",
    "print('reshaped array is:')\n",
    "print(reshaped_array)"
   ]
  },
  {
   "cell_type": "markdown",
   "id": "235ae2ed-9b36-42d5-bff5-89e17c115712",
   "metadata": {},
   "source": [
    "## data preprocessing"
   ]
  },
  {
   "cell_type": "code",
   "execution_count": 43,
   "id": "c35dbbd1-fc27-4fa0-a1b8-d25d55f7b9bc",
   "metadata": {},
   "outputs": [],
   "source": [
    "import numpy as np\n",
    "import pandas as pd\n",
    "\n",
    "# sample data with missing values\n",
    "data ={\n",
    "    \"energy source\":['solar','wind','hydropower','geothermal','biomass','nuclear'],\n",
    "    \"energy consumption (MWh)\":[1200,np.nan,2900,np.nan,2500,3200],\n",
    "    \"cost (millions $)\":[200,400,np.nan,150,250,np.nan]\n",
    "}"
   ]
  },
  {
   "cell_type": "code",
   "execution_count": 44,
   "id": "949c1ac1-ef1c-4e6d-bd96-320aa9b189f8",
   "metadata": {},
   "outputs": [
    {
     "name": "stdout",
     "output_type": "stream",
     "text": [
      "  energy source  energy consumption (MWh)  cost (millions $)\n",
      "0         solar                    1200.0              200.0\n",
      "1          wind                       NaN              400.0\n",
      "2    hydropower                    2900.0                NaN\n",
      "3    geothermal                       NaN              150.0\n",
      "4       biomass                    2500.0              250.0\n",
      "5       nuclear                    3200.0                NaN\n"
     ]
    }
   ],
   "source": [
    "#create a dataframe\n",
    "df = pd.DataFrame(data)\n",
    "print(df)"
   ]
  },
  {
   "cell_type": "markdown",
   "id": "6a0ce3ac-2b66-4665-8fa5-598814a60dff",
   "metadata": {},
   "source": [
    "## handling missing values\n",
    "- removing (drop) mv\n",
    "- impute(fill) mv -mean"
   ]
  },
  {
   "cell_type": "code",
   "execution_count": 45,
   "id": "f59bd991-08d6-4084-8027-367f52ba028c",
   "metadata": {},
   "outputs": [
    {
     "data": {
      "text/html": [
       "<div>\n",
       "<style scoped>\n",
       "    .dataframe tbody tr th:only-of-type {\n",
       "        vertical-align: middle;\n",
       "    }\n",
       "\n",
       "    .dataframe tbody tr th {\n",
       "        vertical-align: top;\n",
       "    }\n",
       "\n",
       "    .dataframe thead th {\n",
       "        text-align: right;\n",
       "    }\n",
       "</style>\n",
       "<table border=\"1\" class=\"dataframe\">\n",
       "  <thead>\n",
       "    <tr style=\"text-align: right;\">\n",
       "      <th></th>\n",
       "      <th>energy source</th>\n",
       "      <th>energy consumption (MWh)</th>\n",
       "      <th>cost (millions $)</th>\n",
       "    </tr>\n",
       "  </thead>\n",
       "  <tbody>\n",
       "    <tr>\n",
       "      <th>0</th>\n",
       "      <td>solar</td>\n",
       "      <td>1200.0</td>\n",
       "      <td>200.0</td>\n",
       "    </tr>\n",
       "    <tr>\n",
       "      <th>4</th>\n",
       "      <td>biomass</td>\n",
       "      <td>2500.0</td>\n",
       "      <td>250.0</td>\n",
       "    </tr>\n",
       "  </tbody>\n",
       "</table>\n",
       "</div>"
      ],
      "text/plain": [
       "  energy source  energy consumption (MWh)  cost (millions $)\n",
       "0         solar                    1200.0              200.0\n",
       "4       biomass                    2500.0              250.0"
      ]
     },
     "execution_count": 45,
     "metadata": {},
     "output_type": "execute_result"
    }
   ],
   "source": [
    "# remove rows with missing values\n",
    "cleaned_df = df.dropna()\n",
    "cleaned_df"
   ]
  },
  {
   "cell_type": "markdown",
   "id": "2951360d-b46f-4842-a30c-83d6e7025b10",
   "metadata": {},
   "source": [
    "## imputation - to add or fill\n",
    "- with mean\n",
    "- forward/backward filling"
   ]
  },
  {
   "cell_type": "code",
   "execution_count": 46,
   "id": "016eb9b6-0e36-4f98-91a0-39b4ca1041c0",
   "metadata": {},
   "outputs": [
    {
     "name": "stderr",
     "output_type": "stream",
     "text": [
      "C:\\Users\\singh\\AppData\\Local\\Temp\\ipykernel_10008\\2423531713.py:2: FutureWarning: A value is trying to be set on a copy of a DataFrame or Series through chained assignment using an inplace method.\n",
      "The behavior will change in pandas 3.0. This inplace method will never work because the intermediate object on which we are setting values always behaves as a copy.\n",
      "\n",
      "For example, when doing 'df[col].method(value, inplace=True)', try using 'df.method({col: value}, inplace=True)' or df[col] = df[col].method(value) instead, to perform the operation inplace on the original object.\n",
      "\n",
      "\n",
      "  df['energy consumption (MWh)'].fillna(df['energy consumption (MWh)'].mean(), inplace=True)\n",
      "C:\\Users\\singh\\AppData\\Local\\Temp\\ipykernel_10008\\2423531713.py:3: FutureWarning: A value is trying to be set on a copy of a DataFrame or Series through chained assignment using an inplace method.\n",
      "The behavior will change in pandas 3.0. This inplace method will never work because the intermediate object on which we are setting values always behaves as a copy.\n",
      "\n",
      "For example, when doing 'df[col].method(value, inplace=True)', try using 'df.method({col: value}, inplace=True)' or df[col] = df[col].method(value) instead, to perform the operation inplace on the original object.\n",
      "\n",
      "\n",
      "  df['cost (millions $)'].fillna(df['cost (millions $)'].mean(), inplace=True)\n"
     ]
    },
    {
     "data": {
      "text/html": [
       "<div>\n",
       "<style scoped>\n",
       "    .dataframe tbody tr th:only-of-type {\n",
       "        vertical-align: middle;\n",
       "    }\n",
       "\n",
       "    .dataframe tbody tr th {\n",
       "        vertical-align: top;\n",
       "    }\n",
       "\n",
       "    .dataframe thead th {\n",
       "        text-align: right;\n",
       "    }\n",
       "</style>\n",
       "<table border=\"1\" class=\"dataframe\">\n",
       "  <thead>\n",
       "    <tr style=\"text-align: right;\">\n",
       "      <th></th>\n",
       "      <th>energy source</th>\n",
       "      <th>energy consumption (MWh)</th>\n",
       "      <th>cost (millions $)</th>\n",
       "    </tr>\n",
       "  </thead>\n",
       "  <tbody>\n",
       "    <tr>\n",
       "      <th>0</th>\n",
       "      <td>solar</td>\n",
       "      <td>1200.0</td>\n",
       "      <td>200.0</td>\n",
       "    </tr>\n",
       "    <tr>\n",
       "      <th>1</th>\n",
       "      <td>wind</td>\n",
       "      <td>2450.0</td>\n",
       "      <td>400.0</td>\n",
       "    </tr>\n",
       "    <tr>\n",
       "      <th>2</th>\n",
       "      <td>hydropower</td>\n",
       "      <td>2900.0</td>\n",
       "      <td>250.0</td>\n",
       "    </tr>\n",
       "    <tr>\n",
       "      <th>3</th>\n",
       "      <td>geothermal</td>\n",
       "      <td>2450.0</td>\n",
       "      <td>150.0</td>\n",
       "    </tr>\n",
       "    <tr>\n",
       "      <th>4</th>\n",
       "      <td>biomass</td>\n",
       "      <td>2500.0</td>\n",
       "      <td>250.0</td>\n",
       "    </tr>\n",
       "    <tr>\n",
       "      <th>5</th>\n",
       "      <td>nuclear</td>\n",
       "      <td>3200.0</td>\n",
       "      <td>250.0</td>\n",
       "    </tr>\n",
       "  </tbody>\n",
       "</table>\n",
       "</div>"
      ],
      "text/plain": [
       "  energy source  energy consumption (MWh)  cost (millions $)\n",
       "0         solar                    1200.0              200.0\n",
       "1          wind                    2450.0              400.0\n",
       "2    hydropower                    2900.0              250.0\n",
       "3    geothermal                    2450.0              150.0\n",
       "4       biomass                    2500.0              250.0\n",
       "5       nuclear                    3200.0              250.0"
      ]
     },
     "execution_count": 46,
     "metadata": {},
     "output_type": "execute_result"
    }
   ],
   "source": [
    "# impute missing values with the mean for energy consumption\n",
    "df['energy consumption (MWh)'].fillna(df['energy consumption (MWh)'].mean(), inplace=True)\n",
    "df['cost (millions $)'].fillna(df['cost (millions $)'].mean(), inplace=True)\n",
    "df"
   ]
  },
  {
   "cell_type": "code",
   "execution_count": 47,
   "id": "ced29979-322a-4184-9660-1eca962388de",
   "metadata": {},
   "outputs": [
    {
     "name": "stderr",
     "output_type": "stream",
     "text": [
      "C:\\Users\\singh\\AppData\\Local\\Temp\\ipykernel_10008\\3819275965.py:2: FutureWarning: DataFrame.fillna with 'method' is deprecated and will raise in a future version. Use obj.ffill() or obj.bfill() instead.\n",
      "  ff_df = df.fillna(method=\"ffill\")\n"
     ]
    },
    {
     "data": {
      "text/html": [
       "<div>\n",
       "<style scoped>\n",
       "    .dataframe tbody tr th:only-of-type {\n",
       "        vertical-align: middle;\n",
       "    }\n",
       "\n",
       "    .dataframe tbody tr th {\n",
       "        vertical-align: top;\n",
       "    }\n",
       "\n",
       "    .dataframe thead th {\n",
       "        text-align: right;\n",
       "    }\n",
       "</style>\n",
       "<table border=\"1\" class=\"dataframe\">\n",
       "  <thead>\n",
       "    <tr style=\"text-align: right;\">\n",
       "      <th></th>\n",
       "      <th>energy source</th>\n",
       "      <th>energy consumption (MWh)</th>\n",
       "      <th>cost (millions $)</th>\n",
       "    </tr>\n",
       "  </thead>\n",
       "  <tbody>\n",
       "    <tr>\n",
       "      <th>0</th>\n",
       "      <td>solar</td>\n",
       "      <td>1200.0</td>\n",
       "      <td>200.0</td>\n",
       "    </tr>\n",
       "    <tr>\n",
       "      <th>1</th>\n",
       "      <td>wind</td>\n",
       "      <td>2450.0</td>\n",
       "      <td>400.0</td>\n",
       "    </tr>\n",
       "    <tr>\n",
       "      <th>2</th>\n",
       "      <td>hydropower</td>\n",
       "      <td>2900.0</td>\n",
       "      <td>250.0</td>\n",
       "    </tr>\n",
       "    <tr>\n",
       "      <th>3</th>\n",
       "      <td>geothermal</td>\n",
       "      <td>2450.0</td>\n",
       "      <td>150.0</td>\n",
       "    </tr>\n",
       "    <tr>\n",
       "      <th>4</th>\n",
       "      <td>biomass</td>\n",
       "      <td>2500.0</td>\n",
       "      <td>250.0</td>\n",
       "    </tr>\n",
       "    <tr>\n",
       "      <th>5</th>\n",
       "      <td>nuclear</td>\n",
       "      <td>3200.0</td>\n",
       "      <td>250.0</td>\n",
       "    </tr>\n",
       "  </tbody>\n",
       "</table>\n",
       "</div>"
      ],
      "text/plain": [
       "  energy source  energy consumption (MWh)  cost (millions $)\n",
       "0         solar                    1200.0              200.0\n",
       "1          wind                    2450.0              400.0\n",
       "2    hydropower                    2900.0              250.0\n",
       "3    geothermal                    2450.0              150.0\n",
       "4       biomass                    2500.0              250.0\n",
       "5       nuclear                    3200.0              250.0"
      ]
     },
     "execution_count": 47,
     "metadata": {},
     "output_type": "execute_result"
    }
   ],
   "source": [
    "# forward filling missing values\n",
    "ff_df = df.fillna(method=\"ffill\")\n",
    "ff_df"
   ]
  },
  {
   "cell_type": "code",
   "execution_count": 48,
   "id": "eedf7f41-ab80-4f8d-bfbb-1b002def917d",
   "metadata": {},
   "outputs": [
    {
     "name": "stderr",
     "output_type": "stream",
     "text": [
      "C:\\Users\\singh\\AppData\\Local\\Temp\\ipykernel_10008\\2046495999.py:1: FutureWarning: DataFrame.fillna with 'method' is deprecated and will raise in a future version. Use obj.ffill() or obj.bfill() instead.\n",
      "  bf_df = df.fillna(method=\"bfill\")\n"
     ]
    },
    {
     "data": {
      "text/html": [
       "<div>\n",
       "<style scoped>\n",
       "    .dataframe tbody tr th:only-of-type {\n",
       "        vertical-align: middle;\n",
       "    }\n",
       "\n",
       "    .dataframe tbody tr th {\n",
       "        vertical-align: top;\n",
       "    }\n",
       "\n",
       "    .dataframe thead th {\n",
       "        text-align: right;\n",
       "    }\n",
       "</style>\n",
       "<table border=\"1\" class=\"dataframe\">\n",
       "  <thead>\n",
       "    <tr style=\"text-align: right;\">\n",
       "      <th></th>\n",
       "      <th>energy source</th>\n",
       "      <th>energy consumption (MWh)</th>\n",
       "      <th>cost (millions $)</th>\n",
       "    </tr>\n",
       "  </thead>\n",
       "  <tbody>\n",
       "    <tr>\n",
       "      <th>0</th>\n",
       "      <td>solar</td>\n",
       "      <td>1200.0</td>\n",
       "      <td>200.0</td>\n",
       "    </tr>\n",
       "    <tr>\n",
       "      <th>1</th>\n",
       "      <td>wind</td>\n",
       "      <td>2450.0</td>\n",
       "      <td>400.0</td>\n",
       "    </tr>\n",
       "    <tr>\n",
       "      <th>2</th>\n",
       "      <td>hydropower</td>\n",
       "      <td>2900.0</td>\n",
       "      <td>250.0</td>\n",
       "    </tr>\n",
       "    <tr>\n",
       "      <th>3</th>\n",
       "      <td>geothermal</td>\n",
       "      <td>2450.0</td>\n",
       "      <td>150.0</td>\n",
       "    </tr>\n",
       "    <tr>\n",
       "      <th>4</th>\n",
       "      <td>biomass</td>\n",
       "      <td>2500.0</td>\n",
       "      <td>250.0</td>\n",
       "    </tr>\n",
       "    <tr>\n",
       "      <th>5</th>\n",
       "      <td>nuclear</td>\n",
       "      <td>3200.0</td>\n",
       "      <td>250.0</td>\n",
       "    </tr>\n",
       "  </tbody>\n",
       "</table>\n",
       "</div>"
      ],
      "text/plain": [
       "  energy source  energy consumption (MWh)  cost (millions $)\n",
       "0         solar                    1200.0              200.0\n",
       "1          wind                    2450.0              400.0\n",
       "2    hydropower                    2900.0              250.0\n",
       "3    geothermal                    2450.0              150.0\n",
       "4       biomass                    2500.0              250.0\n",
       "5       nuclear                    3200.0              250.0"
      ]
     },
     "execution_count": 48,
     "metadata": {},
     "output_type": "execute_result"
    }
   ],
   "source": [
    "bf_df = df.fillna(method=\"bfill\")\n",
    "bf_df"
   ]
  },
  {
   "cell_type": "code",
   "execution_count": 51,
   "id": "62465326-b547-412a-97ab-f1cd583e75b2",
   "metadata": {},
   "outputs": [
    {
     "data": {
      "text/html": [
       "<div>\n",
       "<style scoped>\n",
       "    .dataframe tbody tr th:only-of-type {\n",
       "        vertical-align: middle;\n",
       "    }\n",
       "\n",
       "    .dataframe tbody tr th {\n",
       "        vertical-align: top;\n",
       "    }\n",
       "\n",
       "    .dataframe thead th {\n",
       "        text-align: right;\n",
       "    }\n",
       "</style>\n",
       "<table border=\"1\" class=\"dataframe\">\n",
       "  <thead>\n",
       "    <tr style=\"text-align: right;\">\n",
       "      <th></th>\n",
       "      <th>energy source</th>\n",
       "      <th>energy consumption (MWh)</th>\n",
       "      <th>cost (millions $)</th>\n",
       "    </tr>\n",
       "  </thead>\n",
       "  <tbody>\n",
       "    <tr>\n",
       "      <th>0</th>\n",
       "      <td>solar</td>\n",
       "      <td>0.000</td>\n",
       "      <td>0.2</td>\n",
       "    </tr>\n",
       "    <tr>\n",
       "      <th>1</th>\n",
       "      <td>wind</td>\n",
       "      <td>0.625</td>\n",
       "      <td>1.0</td>\n",
       "    </tr>\n",
       "    <tr>\n",
       "      <th>2</th>\n",
       "      <td>hydropower</td>\n",
       "      <td>0.850</td>\n",
       "      <td>0.4</td>\n",
       "    </tr>\n",
       "    <tr>\n",
       "      <th>3</th>\n",
       "      <td>geothermal</td>\n",
       "      <td>0.625</td>\n",
       "      <td>0.0</td>\n",
       "    </tr>\n",
       "    <tr>\n",
       "      <th>4</th>\n",
       "      <td>biomass</td>\n",
       "      <td>0.650</td>\n",
       "      <td>0.4</td>\n",
       "    </tr>\n",
       "    <tr>\n",
       "      <th>5</th>\n",
       "      <td>nuclear</td>\n",
       "      <td>1.000</td>\n",
       "      <td>0.4</td>\n",
       "    </tr>\n",
       "  </tbody>\n",
       "</table>\n",
       "</div>"
      ],
      "text/plain": [
       "  energy source  energy consumption (MWh)  cost (millions $)\n",
       "0         solar                     0.000                0.2\n",
       "1          wind                     0.625                1.0\n",
       "2    hydropower                     0.850                0.4\n",
       "3    geothermal                     0.625                0.0\n",
       "4       biomass                     0.650                0.4\n",
       "5       nuclear                     1.000                0.4"
      ]
     },
     "execution_count": 51,
     "metadata": {},
     "output_type": "execute_result"
    }
   ],
   "source": [
    "# data preprocessing - normalization\n",
    "from sklearn.preprocessing import MinMaxScaler\n",
    "\n",
    "scaler = MinMaxScaler()\n",
    "df[['energy consumption (MWh)', 'cost (millions $)']] = scaler.fit_transform(df[['energy consumption (MWh)', 'cost (millions $)']])\n",
    "df"
   ]
  },
  {
   "cell_type": "code",
   "execution_count": 52,
   "id": "c253b2f5-e462-46b3-87df-0e806d5639eb",
   "metadata": {},
   "outputs": [
    {
     "data": {
      "text/html": [
       "<div>\n",
       "<style scoped>\n",
       "    .dataframe tbody tr th:only-of-type {\n",
       "        vertical-align: middle;\n",
       "    }\n",
       "\n",
       "    .dataframe tbody tr th {\n",
       "        vertical-align: top;\n",
       "    }\n",
       "\n",
       "    .dataframe thead th {\n",
       "        text-align: right;\n",
       "    }\n",
       "</style>\n",
       "<table border=\"1\" class=\"dataframe\">\n",
       "  <thead>\n",
       "    <tr style=\"text-align: right;\">\n",
       "      <th></th>\n",
       "      <th>energy source</th>\n",
       "      <th>energy consumption (MWh)</th>\n",
       "      <th>cost (millions $)</th>\n",
       "    </tr>\n",
       "  </thead>\n",
       "  <tbody>\n",
       "    <tr>\n",
       "      <th>0</th>\n",
       "      <td>solar</td>\n",
       "      <td>-2.005893e+00</td>\n",
       "      <td>-6.546537e-01</td>\n",
       "    </tr>\n",
       "    <tr>\n",
       "      <th>1</th>\n",
       "      <td>wind</td>\n",
       "      <td>3.563181e-16</td>\n",
       "      <td>1.963961e+00</td>\n",
       "    </tr>\n",
       "    <tr>\n",
       "      <th>2</th>\n",
       "      <td>hydropower</td>\n",
       "      <td>7.221213e-01</td>\n",
       "      <td>1.817029e-16</td>\n",
       "    </tr>\n",
       "    <tr>\n",
       "      <th>3</th>\n",
       "      <td>geothermal</td>\n",
       "      <td>3.563181e-16</td>\n",
       "      <td>-1.309307e+00</td>\n",
       "    </tr>\n",
       "    <tr>\n",
       "      <th>4</th>\n",
       "      <td>biomass</td>\n",
       "      <td>8.023570e-02</td>\n",
       "      <td>1.817029e-16</td>\n",
       "    </tr>\n",
       "    <tr>\n",
       "      <th>5</th>\n",
       "      <td>nuclear</td>\n",
       "      <td>1.203536e+00</td>\n",
       "      <td>1.817029e-16</td>\n",
       "    </tr>\n",
       "  </tbody>\n",
       "</table>\n",
       "</div>"
      ],
      "text/plain": [
       "  energy source  energy consumption (MWh)  cost (millions $)\n",
       "0         solar             -2.005893e+00      -6.546537e-01\n",
       "1          wind              3.563181e-16       1.963961e+00\n",
       "2    hydropower              7.221213e-01       1.817029e-16\n",
       "3    geothermal              3.563181e-16      -1.309307e+00\n",
       "4       biomass              8.023570e-02       1.817029e-16\n",
       "5       nuclear              1.203536e+00       1.817029e-16"
      ]
     },
     "execution_count": 52,
     "metadata": {},
     "output_type": "execute_result"
    }
   ],
   "source": [
    "from sklearn.preprocessing import StandardScaler\n",
    "scaler = StandardScaler()\n",
    "df[['energy consumption (MWh)', 'cost (millions $)']] = scaler.fit_transform(df[['energy consumption (MWh)', 'cost (millions $)']])\n",
    "df"
   ]
  },
  {
   "cell_type": "markdown",
   "id": "41850ba3-ab05-49b2-b689-d8cb0c2b2f34",
   "metadata": {},
   "source": [
    "## encoding - one hot encoding"
   ]
  },
  {
   "cell_type": "code",
   "execution_count": 53,
   "id": "3898268c-d5a4-4384-a860-e79d29dc46c1",
   "metadata": {},
   "outputs": [
    {
     "data": {
      "text/html": [
       "<div>\n",
       "<style scoped>\n",
       "    .dataframe tbody tr th:only-of-type {\n",
       "        vertical-align: middle;\n",
       "    }\n",
       "\n",
       "    .dataframe tbody tr th {\n",
       "        vertical-align: top;\n",
       "    }\n",
       "\n",
       "    .dataframe thead th {\n",
       "        text-align: right;\n",
       "    }\n",
       "</style>\n",
       "<table border=\"1\" class=\"dataframe\">\n",
       "  <thead>\n",
       "    <tr style=\"text-align: right;\">\n",
       "      <th></th>\n",
       "      <th>energy consumption (MWh)</th>\n",
       "      <th>cost (millions $)</th>\n",
       "      <th>energy source_biomass</th>\n",
       "      <th>energy source_geothermal</th>\n",
       "      <th>energy source_hydropower</th>\n",
       "      <th>energy source_nuclear</th>\n",
       "      <th>energy source_solar</th>\n",
       "      <th>energy source_wind</th>\n",
       "    </tr>\n",
       "  </thead>\n",
       "  <tbody>\n",
       "    <tr>\n",
       "      <th>0</th>\n",
       "      <td>-2.005893e+00</td>\n",
       "      <td>-6.546537e-01</td>\n",
       "      <td>False</td>\n",
       "      <td>False</td>\n",
       "      <td>False</td>\n",
       "      <td>False</td>\n",
       "      <td>True</td>\n",
       "      <td>False</td>\n",
       "    </tr>\n",
       "    <tr>\n",
       "      <th>1</th>\n",
       "      <td>3.563181e-16</td>\n",
       "      <td>1.963961e+00</td>\n",
       "      <td>False</td>\n",
       "      <td>False</td>\n",
       "      <td>False</td>\n",
       "      <td>False</td>\n",
       "      <td>False</td>\n",
       "      <td>True</td>\n",
       "    </tr>\n",
       "    <tr>\n",
       "      <th>2</th>\n",
       "      <td>7.221213e-01</td>\n",
       "      <td>1.817029e-16</td>\n",
       "      <td>False</td>\n",
       "      <td>False</td>\n",
       "      <td>True</td>\n",
       "      <td>False</td>\n",
       "      <td>False</td>\n",
       "      <td>False</td>\n",
       "    </tr>\n",
       "    <tr>\n",
       "      <th>3</th>\n",
       "      <td>3.563181e-16</td>\n",
       "      <td>-1.309307e+00</td>\n",
       "      <td>False</td>\n",
       "      <td>True</td>\n",
       "      <td>False</td>\n",
       "      <td>False</td>\n",
       "      <td>False</td>\n",
       "      <td>False</td>\n",
       "    </tr>\n",
       "    <tr>\n",
       "      <th>4</th>\n",
       "      <td>8.023570e-02</td>\n",
       "      <td>1.817029e-16</td>\n",
       "      <td>True</td>\n",
       "      <td>False</td>\n",
       "      <td>False</td>\n",
       "      <td>False</td>\n",
       "      <td>False</td>\n",
       "      <td>False</td>\n",
       "    </tr>\n",
       "    <tr>\n",
       "      <th>5</th>\n",
       "      <td>1.203536e+00</td>\n",
       "      <td>1.817029e-16</td>\n",
       "      <td>False</td>\n",
       "      <td>False</td>\n",
       "      <td>False</td>\n",
       "      <td>True</td>\n",
       "      <td>False</td>\n",
       "      <td>False</td>\n",
       "    </tr>\n",
       "  </tbody>\n",
       "</table>\n",
       "</div>"
      ],
      "text/plain": [
       "   energy consumption (MWh)  cost (millions $)  energy source_biomass  \\\n",
       "0             -2.005893e+00      -6.546537e-01                  False   \n",
       "1              3.563181e-16       1.963961e+00                  False   \n",
       "2              7.221213e-01       1.817029e-16                  False   \n",
       "3              3.563181e-16      -1.309307e+00                  False   \n",
       "4              8.023570e-02       1.817029e-16                   True   \n",
       "5              1.203536e+00       1.817029e-16                  False   \n",
       "\n",
       "   energy source_geothermal  energy source_hydropower  energy source_nuclear  \\\n",
       "0                     False                     False                  False   \n",
       "1                     False                     False                  False   \n",
       "2                     False                      True                  False   \n",
       "3                      True                     False                  False   \n",
       "4                     False                     False                  False   \n",
       "5                     False                     False                   True   \n",
       "\n",
       "   energy source_solar  energy source_wind  \n",
       "0                 True               False  \n",
       "1                False                True  \n",
       "2                False               False  \n",
       "3                False               False  \n",
       "4                False               False  \n",
       "5                False               False  "
      ]
     },
     "execution_count": 53,
     "metadata": {},
     "output_type": "execute_result"
    }
   ],
   "source": [
    "ohe_df = pd.get_dummies(df , columns=[\"energy source\"])\n",
    "ohe_df"
   ]
  },
  {
   "cell_type": "code",
   "execution_count": 54,
   "id": "32eaf056-73f8-4e5c-9943-a066f6b0ec6a",
   "metadata": {},
   "outputs": [
    {
     "data": {
      "text/html": [
       "<div>\n",
       "<style scoped>\n",
       "    .dataframe tbody tr th:only-of-type {\n",
       "        vertical-align: middle;\n",
       "    }\n",
       "\n",
       "    .dataframe tbody tr th {\n",
       "        vertical-align: top;\n",
       "    }\n",
       "\n",
       "    .dataframe thead th {\n",
       "        text-align: right;\n",
       "    }\n",
       "</style>\n",
       "<table border=\"1\" class=\"dataframe\">\n",
       "  <thead>\n",
       "    <tr style=\"text-align: right;\">\n",
       "      <th></th>\n",
       "      <th>energy consumption (MWh)</th>\n",
       "      <th>cost (millions $)</th>\n",
       "      <th>energy source_biomass</th>\n",
       "      <th>energy source_geothermal</th>\n",
       "      <th>energy source_hydropower</th>\n",
       "      <th>energy source_nuclear</th>\n",
       "      <th>energy source_solar</th>\n",
       "      <th>energy source_wind</th>\n",
       "      <th>consumption per million $</th>\n",
       "    </tr>\n",
       "  </thead>\n",
       "  <tbody>\n",
       "    <tr>\n",
       "      <th>0</th>\n",
       "      <td>-2.005893e+00</td>\n",
       "      <td>-6.546537e-01</td>\n",
       "      <td>False</td>\n",
       "      <td>False</td>\n",
       "      <td>False</td>\n",
       "      <td>False</td>\n",
       "      <td>True</td>\n",
       "      <td>False</td>\n",
       "      <td>3.064052e+00</td>\n",
       "    </tr>\n",
       "    <tr>\n",
       "      <th>1</th>\n",
       "      <td>3.563181e-16</td>\n",
       "      <td>1.963961e+00</td>\n",
       "      <td>False</td>\n",
       "      <td>False</td>\n",
       "      <td>False</td>\n",
       "      <td>False</td>\n",
       "      <td>False</td>\n",
       "      <td>True</td>\n",
       "      <td>1.814283e-16</td>\n",
       "    </tr>\n",
       "    <tr>\n",
       "      <th>2</th>\n",
       "      <td>7.221213e-01</td>\n",
       "      <td>1.817029e-16</td>\n",
       "      <td>False</td>\n",
       "      <td>False</td>\n",
       "      <td>True</td>\n",
       "      <td>False</td>\n",
       "      <td>False</td>\n",
       "      <td>False</td>\n",
       "      <td>3.974187e+15</td>\n",
       "    </tr>\n",
       "    <tr>\n",
       "      <th>3</th>\n",
       "      <td>3.563181e-16</td>\n",
       "      <td>-1.309307e+00</td>\n",
       "      <td>False</td>\n",
       "      <td>True</td>\n",
       "      <td>False</td>\n",
       "      <td>False</td>\n",
       "      <td>False</td>\n",
       "      <td>False</td>\n",
       "      <td>-2.721424e-16</td>\n",
       "    </tr>\n",
       "    <tr>\n",
       "      <th>4</th>\n",
       "      <td>8.023570e-02</td>\n",
       "      <td>1.817029e-16</td>\n",
       "      <td>True</td>\n",
       "      <td>False</td>\n",
       "      <td>False</td>\n",
       "      <td>False</td>\n",
       "      <td>False</td>\n",
       "      <td>False</td>\n",
       "      <td>4.415764e+14</td>\n",
       "    </tr>\n",
       "    <tr>\n",
       "      <th>5</th>\n",
       "      <td>1.203536e+00</td>\n",
       "      <td>1.817029e-16</td>\n",
       "      <td>False</td>\n",
       "      <td>False</td>\n",
       "      <td>False</td>\n",
       "      <td>True</td>\n",
       "      <td>False</td>\n",
       "      <td>False</td>\n",
       "      <td>6.623646e+15</td>\n",
       "    </tr>\n",
       "  </tbody>\n",
       "</table>\n",
       "</div>"
      ],
      "text/plain": [
       "   energy consumption (MWh)  cost (millions $)  energy source_biomass  \\\n",
       "0             -2.005893e+00      -6.546537e-01                  False   \n",
       "1              3.563181e-16       1.963961e+00                  False   \n",
       "2              7.221213e-01       1.817029e-16                  False   \n",
       "3              3.563181e-16      -1.309307e+00                  False   \n",
       "4              8.023570e-02       1.817029e-16                   True   \n",
       "5              1.203536e+00       1.817029e-16                  False   \n",
       "\n",
       "   energy source_geothermal  energy source_hydropower  energy source_nuclear  \\\n",
       "0                     False                     False                  False   \n",
       "1                     False                     False                  False   \n",
       "2                     False                      True                  False   \n",
       "3                      True                     False                  False   \n",
       "4                     False                     False                  False   \n",
       "5                     False                     False                   True   \n",
       "\n",
       "   energy source_solar  energy source_wind  consumption per million $  \n",
       "0                 True               False               3.064052e+00  \n",
       "1                False                True               1.814283e-16  \n",
       "2                False               False               3.974187e+15  \n",
       "3                False               False              -2.721424e-16  \n",
       "4                False               False               4.415764e+14  \n",
       "5                False               False               6.623646e+15  "
      ]
     },
     "execution_count": 54,
     "metadata": {},
     "output_type": "execute_result"
    }
   ],
   "source": [
    "# feature engineering \n",
    "ohe_df[\"consumption per million $\"] = ohe_df['energy consumption (MWh)'] / ohe_df['cost (millions $)']\n",
    "ohe_df"
   ]
  },
  {
   "cell_type": "code",
   "execution_count": null,
   "id": "cca5c444-c6e5-4508-ac27-758c9cba8185",
   "metadata": {},
   "outputs": [],
   "source": []
  }
 ],
 "metadata": {
  "kernelspec": {
   "display_name": "Python 3 (ipykernel)",
   "language": "python",
   "name": "python3"
  },
  "language_info": {
   "codemirror_mode": {
    "name": "ipython",
    "version": 3
   },
   "file_extension": ".py",
   "mimetype": "text/x-python",
   "name": "python",
   "nbconvert_exporter": "python",
   "pygments_lexer": "ipython3",
   "version": "3.12.8"
  }
 },
 "nbformat": 4,
 "nbformat_minor": 5
}
